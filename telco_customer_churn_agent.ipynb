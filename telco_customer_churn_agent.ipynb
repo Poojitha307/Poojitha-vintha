{
  "nbformat": 4,
  "nbformat_minor": 0,
  "metadata": {
    "colab": {
      "provenance": []
    },
    "kernelspec": {
      "name": "python3",
      "display_name": "Python 3"
    },
    "language_info": {
      "name": "python"
    }
  },
  "cells": [
    {
      "cell_type": "code",
      "source": [
        "d = pickle.load(open('/content/model.pxl','rb'))"
      ],
      "metadata": {
        "id": "nZgmrtCu66vl",
        "colab": {
          "base_uri": "https://localhost:8080/",
          "height": 148
        },
        "outputId": "a247cb50-516c-45b1-c103-4fb1f83b9e45"
      },
      "execution_count": null,
      "outputs": [
        {
          "output_type": "error",
          "ename": "NameError",
          "evalue": "name 'pickle' is not defined",
          "traceback": [
            "\u001b[0;31m---------------------------------------------------------------------------\u001b[0m",
            "\u001b[0;31mNameError\u001b[0m                                 Traceback (most recent call last)",
            "\u001b[0;32m<ipython-input-1-e56db641efe6>\u001b[0m in \u001b[0;36m<cell line: 0>\u001b[0;34m()\u001b[0m\n\u001b[0;32m----> 1\u001b[0;31m \u001b[0md\u001b[0m \u001b[0;34m=\u001b[0m \u001b[0mpickle\u001b[0m\u001b[0;34m.\u001b[0m\u001b[0mload\u001b[0m\u001b[0;34m(\u001b[0m\u001b[0mopen\u001b[0m\u001b[0;34m(\u001b[0m\u001b[0;34m'/content/model.pxl'\u001b[0m\u001b[0;34m,\u001b[0m\u001b[0;34m'rb'\u001b[0m\u001b[0;34m)\u001b[0m\u001b[0;34m)\u001b[0m\u001b[0;34m\u001b[0m\u001b[0;34m\u001b[0m\u001b[0m\n\u001b[0m",
            "\u001b[0;31mNameError\u001b[0m: name 'pickle' is not defined"
          ]
        }
      ]
    },
    {
      "cell_type": "code",
      "source": [
        "import pickle\n",
        "import pandas as pd\n",
        "with open(\"model.pxl\", \"rb\") as file:\n",
        "    model = pickle.load(file)\n",
        "features = [\n",
        "    'SeniorCitizen',\n",
        "    'Partner',\n",
        "    'tenure',\n",
        "    'OnlineSecurity',\n",
        "    'OnlineBackup',\n",
        "    'DeviceProtection',\n",
        "    'TechSupport',\n",
        "    'Contract',\n",
        "    'PaperlessBilling',\n",
        "    'PaymentMethod',\n",
        "    'MonthlyCharges'\n",
        "]\n",
        "def get_user_input():\n",
        "    print(\"Please enter the following values for churn prediction:\")\n",
        "    input_data = {}\n",
        "    for feature in features:\n",
        "        while True:\n",
        "            try:\n",
        "                val = input(f\"{feature}: \")\n",
        "                if feature == 'MonthlyCharges':\n",
        "                    input_data[feature] = float(val)\n",
        "                else:\n",
        "                    input_data[feature] = int(val)\n",
        "                break\n",
        "            except ValueError:\n",
        "                print(\"Invalid input. Please enter a numeric value.\")\n",
        "    return input_data\n",
        "def predict_churn(input_dict):\n",
        "    df = pd.DataFrame([input_dict])\n",
        "    prediction = model.predict(df)[0]\n",
        "    return prediction\n",
        "user_input = get_user_input()\n",
        "result = predict_churn(user_input)\n",
        "print(\"\\nChurn Prediction:\", \"Yes (Customer is likely to churn)\" if result == 1 else \"No (Customer is likely to stay)\")\n"
      ],
      "metadata": {
        "colab": {
          "base_uri": "https://localhost:8080/"
        },
        "id": "jtDyLuj-2pIM",
        "outputId": "8d35098c-bed0-4487-ac88-2a4c8d5764c2"
      },
      "execution_count": null,
      "outputs": [
        {
          "output_type": "stream",
          "name": "stdout",
          "text": [
            "Please enter the following values for churn prediction:\n",
            "SeniorCitizen: 1\n",
            "Partner: 0\n",
            "tenure: 11\n",
            "OnlineSecurity: 1\n",
            "OnlineBackup: 0\n",
            "DeviceProtection: 1\n",
            "TechSupport: 6\n",
            "Contract: 0\n",
            "PaperlessBilling: 0\n",
            "PaymentMethod: 1\n",
            "MonthlyCharges: 70\n",
            "\n",
            "Churn Prediction: No (Customer is likely to stay)\n"
          ]
        }
      ]
    },
    {
      "cell_type": "code",
      "source": [],
      "metadata": {
        "id": "pCXMK8IC3Nz7"
      },
      "execution_count": null,
      "outputs": []
    }
  ]
}