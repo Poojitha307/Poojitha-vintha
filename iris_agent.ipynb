{
  "nbformat": 4,
  "nbformat_minor": 0,
  "metadata": {
    "colab": {
      "provenance": []
    },
    "kernelspec": {
      "name": "python3",
      "display_name": "Python 3"
    },
    "language_info": {
      "name": "python"
    }
  },
  "cells": [
    {
      "cell_type": "code",
      "execution_count": null,
      "metadata": {
        "id": "26GPtW51w-Pi"
      },
      "outputs": [],
      "source": [
        "import pickle"
      ]
    },
    {
      "cell_type": "code",
      "source": [
        "l =  pickle.load(open('/content/iris.pkl', 'rb')"
      ],
      "metadata": {
        "id": "pe_6nea8xlQ1",
        "colab": {
          "base_uri": "https://localhost:8080/",
          "height": 111
        },
        "outputId": "69bca26d-200a-45db-931a-0f70407f22b7"
      },
      "execution_count": null,
      "outputs": [
        {
          "output_type": "error",
          "ename": "SyntaxError",
          "evalue": "incomplete input (<ipython-input-6-26a5972c8853>, line 1)",
          "traceback": [
            "\u001b[0;36m  File \u001b[0;32m\"<ipython-input-6-26a5972c8853>\"\u001b[0;36m, line \u001b[0;32m1\u001b[0m\n\u001b[0;31m    l =  pickle.load(open('/content/iris.pkl', 'rb')\u001b[0m\n\u001b[0m                                                    ^\u001b[0m\n\u001b[0;31mSyntaxError\u001b[0m\u001b[0;31m:\u001b[0m incomplete input\n"
          ]
        }
      ]
    },
    {
      "cell_type": "code",
      "source": [
        "a= l.predict([[1.5,1.7,1.8,2.0]])\n",
        "if a[0] == 0:\n",
        "  print('Setosa')\n",
        "elif a[0] == 1:\n",
        "  print('Versicolor')\n",
        "else:\n",
        "  print('virgina')"
      ],
      "metadata": {
        "id": "gJHzUUgQxzAb"
      },
      "execution_count": null,
      "outputs": []
    },
    {
      "cell_type": "code",
      "source": [
        "from sklearn.metrics import accuracy_score"
      ],
      "metadata": {
        "id": "46M44L61ymbk"
      },
      "execution_count": null,
      "outputs": []
    },
    {
      "cell_type": "code",
      "source": [],
      "metadata": {
        "id": "uUXlbldrPKM1"
      },
      "execution_count": null,
      "outputs": []
    }
  ]
}